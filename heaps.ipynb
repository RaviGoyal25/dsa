{
 "cells": [
  {
   "cell_type": "markdown",
   "metadata": {},
   "source": [
    "heaps->\n",
    "1. complete binary tree -> expect last level all level need to be filled.\n",
    "2. fill left to right only.\n",
    "3. we can remove only last element not from the middle.\n",
    "4. min heap-> every node value is less than its children.\n",
    "5. max heap-> every node value is greater than its children.\n"
   ]
  },
  {
   "cell_type": "code",
   "execution_count": 12,
   "metadata": {},
   "outputs": [
    {
     "name": "stdout",
     "output_type": "stream",
     "text": [
      "S\n",
      "A\n",
      "D\n",
      "C\n",
      "B\n"
     ]
    }
   ],
   "source": [
    "# min heap\n",
    "\n",
    "class PriorityQueueNode:\n",
    "    def __init__(self,value,priority):\n",
    "        self.value=value\n",
    "        self.priority=priority\n",
    "\n",
    "class PriorityQueue:\n",
    "    def __init__(self):\n",
    "        self.pq=[]\n",
    "\n",
    "    def getSize(self):\n",
    "        return len(self.pq)\n",
    "    \n",
    "    def isEmpty(self):\n",
    "        return self.getSize==True\n",
    "\n",
    "    def getMin(self):\n",
    "        if self.isEmpty():\n",
    "            return None\n",
    "        return self.pq[0].value\n",
    "\n",
    "    def percolateUp(self):\n",
    "        childIndex=self.getSize()-1\n",
    "        while childIndex>0:\n",
    "            parentIndex=(childIndex-1)//2\n",
    "            if self.pq[childIndex].priority<self.pq[parentIndex].priority:\n",
    "                self.pq[childIndex],self.pq[parentIndex]=self.pq[parentIndex],self.pq[childIndex]\n",
    "                childIndex=parentIndex\n",
    "            else:\n",
    "                break\n",
    "\n",
    "    def insert(self,value,priority):\n",
    "        pqNode=PriorityQueueNode(value,priority)\n",
    "        self.pq.append(pqNode)\n",
    "        self.percolateUp()\n",
    "        pass\n",
    "\n",
    "    def percolateDown(self):\n",
    "        parentIndex=0\n",
    "        leftChildIndex=2*parentIndex+1\n",
    "        rightChildIndex=2*parentIndex+2\n",
    "\n",
    "        while leftChildIndex<self.getSize():\n",
    "            minIndex=parentIndex\n",
    "\n",
    "            if self.pq[leftChildIndex].priority<self.pq[parentIndex].priority:\n",
    "                minIndex=leftChildIndex\n",
    "            if rightChildIndex<self.getSize() and self.pq[rightChildIndex].priority<self.pq[minIndex].priority:\n",
    "                minIndex=rightChildIndex\n",
    "            if parentIndex==minIndex:\n",
    "                break\n",
    "            self.pq[parentIndex],self.pq[minIndex]=self.pq[minIndex],self.pq[parentIndex]\n",
    "            parentIndex=minIndex\n",
    "            leftChildIndex=2*parentIndex+1\n",
    "            rightChildIndex=2*parentIndex+2\n",
    "            \n",
    "\n",
    "\n",
    "    def removeMin(self):\n",
    "        ele=self.pq[0].value\n",
    "        self.pq[0]=self.pq[self.getSize()-1]\n",
    "        self.pq.pop()\n",
    "        self.percolateDown()\n",
    "        return ele\n",
    "\n",
    "pq=PriorityQueue()\n",
    "pq.insert(\"A\",5)\n",
    "pq.insert(\"C\",18)\n",
    "pq.insert(\"D\",6)\n",
    "pq.insert(\"B\",100)\n",
    "pq.insert(\"S\",1)\n",
    "\n",
    "\n",
    "for i in range(5):\n",
    "    print(pq.removeMin())\n"
   ]
  }
 ],
 "metadata": {
  "kernelspec": {
   "display_name": "Python 3.10.6 64-bit",
   "language": "python",
   "name": "python3"
  },
  "language_info": {
   "codemirror_mode": {
    "name": "ipython",
    "version": 3
   },
   "file_extension": ".py",
   "mimetype": "text/x-python",
   "name": "python",
   "nbconvert_exporter": "python",
   "pygments_lexer": "ipython3",
   "version": "3.10.6"
  },
  "orig_nbformat": 4,
  "vscode": {
   "interpreter": {
    "hash": "26de051ba29f2982a8de78e945f0abaf191376122a1563185a90213a26c5da77"
   }
  }
 },
 "nbformat": 4,
 "nbformat_minor": 2
}
