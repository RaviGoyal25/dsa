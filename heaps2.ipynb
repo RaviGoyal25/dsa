{
 "cells": [
  {
   "cell_type": "code",
   "execution_count": 6,
   "metadata": {},
   "outputs": [
    {
     "name": "stdout",
     "output_type": "stream",
     "text": [
      "[241, 85, 58, 21, 9, 8, 6, 5, 5, 2]\n",
      "[2, 5, 5, 6, 8, 9, 21, 58, 85, 241]\n"
     ]
    }
   ],
   "source": [
    "def downheapify(arr,i,n):\n",
    "    parentIndex=i\n",
    "    leftChildIndex=2*i+1\n",
    "    rightChildIndex=2*i+2\n",
    "\n",
    "    while(leftChildIndex<n):\n",
    "        minIndex=parentIndex\n",
    "        if arr[minIndex]>arr[leftChildIndex]:\n",
    "            minIndex=leftChildIndex\n",
    "        if rightChildIndex<n and arr[minIndex]>arr[rightChildIndex]:\n",
    "            minIndex=rightChildIndex\n",
    "        if minIndex==parentIndex:\n",
    "            return\n",
    "        arr[minIndex],arr[parentIndex]=arr[parentIndex],arr[minIndex]\n",
    "        parentIndex=minIndex\n",
    "        leftChildIndex=2*parentIndex+1\n",
    "        rightChildIndex=2*parentIndex+2\n",
    "    return\n",
    "\n",
    "\n",
    "def heapsort(arr):\n",
    "    n=len(arr)\n",
    "\n",
    "    for i in range((n//2)-1,-1,-1):\n",
    "        downheapify(arr,i,n)\n",
    "\n",
    "    for i in range(n-1,0,-1):\n",
    "        arr[0],arr[i]=arr[i],arr[0]\n",
    "        downheapify(arr,0,i)\n",
    "\n",
    "\n",
    "arr=[int(e) for e in input().split()]\n",
    "heapsort(arr)\n",
    "print(arr)\n",
    "print(arr[::-1])\n",
    "\n"
   ]
  },
  {
   "cell_type": "code",
   "execution_count": 16,
   "metadata": {},
   "outputs": [
    {
     "name": "stdout",
     "output_type": "stream",
     "text": [
      "[1, 2, 3, 5, 4]\n",
      "[1, 2, 3, 5, 4, 6]\n",
      "[2, 4, 3, 5, 6]\n",
      "[3, 4, 19, 5, 6]\n"
     ]
    }
   ],
   "source": [
    "# inbuilt min heap\n",
    "\n",
    "import heapq\n",
    "\n",
    "li =[5,4,3,2,1]\n",
    "\n",
    "heapq.heapify(li)\n",
    "print(li)\n",
    "heapq.heappush(li,6)\n",
    "print(li)\n",
    "heapq.heappop(li)\n",
    "print(li)\n",
    "\n",
    "heapq.heapreplace(li,19) # replace minimum element with 19 and then heapify\n",
    "print(li)"
   ]
  },
  {
   "cell_type": "code",
   "execution_count": 21,
   "metadata": {},
   "outputs": [
    {
     "name": "stdout",
     "output_type": "stream",
     "text": [
      "[9, 8, 4, 7, 5, 1, 2, 3]\n",
      "[8, 7, 4, 3, 5, 1, 2]\n",
      "[7, 5, 4, 3, 0, 1, 2]\n",
      "[7, 6, 4, 5, 0, 1, 2, 3]\n"
     ]
    }
   ],
   "source": [
    "# inbuilt max heap\n",
    "\n",
    "import heapq\n",
    "li=[1,5,4,7,8,9,2,3]\n",
    "heapq._heapify_max(li)\n",
    "print(li)\n",
    "\n",
    "heapq._heappop_max(li)\n",
    "print(li)\n",
    "\n",
    "heapq._heapreplace_max(li,0)\n",
    "print(li)\n",
    "\n",
    "# push operation\n",
    "\n",
    "li.append(6)\n",
    "heapq._siftdown_max(li,0,len(li)-1)\n",
    "print(li)"
   ]
  },
  {
   "cell_type": "code",
   "execution_count": 23,
   "metadata": {},
   "outputs": [
    {
     "name": "stdout",
     "output_type": "stream",
     "text": [
      "[7, 6, 1, 2, 3]\n"
     ]
    }
   ],
   "source": [
    "# k smallest element in array in o(nlogk) \n",
    "import heapq\n",
    "\n",
    "def kSmallest(arr,k):\n",
    "    heap=arr[0:k]\n",
    "    heapq._heapify_max(heap)\n",
    "    n=len(arr)\n",
    "\n",
    "    for i in range(k,n):\n",
    "        if arr[i]<heap[0]:\n",
    "            heapq._heapreplace_max(heap,arr[i])\n",
    "    return heap\n",
    "\n",
    "arr=[10,6,7,2,3,8,9,11,1]\n",
    "k=5\n",
    "arr1=kSmallest(arr,k)\n",
    "print(arr1)\n",
    "\n"
   ]
  }
 ],
 "metadata": {
  "kernelspec": {
   "display_name": "Python 3.10.6 64-bit",
   "language": "python",
   "name": "python3"
  },
  "language_info": {
   "codemirror_mode": {
    "name": "ipython",
    "version": 3
   },
   "file_extension": ".py",
   "mimetype": "text/x-python",
   "name": "python",
   "nbconvert_exporter": "python",
   "pygments_lexer": "ipython3",
   "version": "3.10.6"
  },
  "orig_nbformat": 4,
  "vscode": {
   "interpreter": {
    "hash": "26de051ba29f2982a8de78e945f0abaf191376122a1563185a90213a26c5da77"
   }
  }
 },
 "nbformat": 4,
 "nbformat_minor": 2
}
