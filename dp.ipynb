{
 "cells": [
  {
   "cell_type": "code",
   "execution_count": 2,
   "metadata": {},
   "outputs": [
    {
     "name": "stdout",
     "output_type": "stream",
     "text": [
      "21\n"
     ]
    }
   ],
   "source": [
    "# Tc-> o(n)  sc-> o(n)\n",
    "def fibb(n,dp):\n",
    "    if n==0 or n==1:\n",
    "        return n\n",
    "    if dp[n-1]==-1:\n",
    "        ans1=fibb(n-1,dp)\n",
    "        dp[n-1]=ans1\n",
    "    else:\n",
    "        ans1=dp[n-1] \n",
    "\n",
    "    if dp[n-2]==-1:\n",
    "        ans2=fibb(n-2,dp)\n",
    "        dp[n-2]=ans2\n",
    "    else:\n",
    "        ans2=dp[n-2] \n",
    "\n",
    "    return ans1+ans2\n",
    "\n",
    "n=int(input())\n",
    "dp=[-1 for i in range(n+1)]\n",
    "ans=fibb(n,dp)\n",
    "print(ans)"
   ]
  },
  {
   "cell_type": "code",
   "execution_count": 4,
   "metadata": {},
   "outputs": [
    {
     "name": "stdout",
     "output_type": "stream",
     "text": [
      "21\n"
     ]
    }
   ],
   "source": [
    "#iterative\n",
    "def fibbI(n):\n",
    "    dp=[0 for i in range(n+1)]\n",
    "    dp[0]=0\n",
    "    dp[1]=1\n",
    "    i=2\n",
    "    while(i<n+1):\n",
    "        dp[i]=dp[i-1]+dp[i-2]\n",
    "        i+=1\n",
    "    return dp[n]\n",
    "\n",
    "n=int(input())\n",
    "print(fibbI(n))"
   ]
  },
  {
   "cell_type": "code",
   "execution_count": 6,
   "metadata": {},
   "outputs": [
    {
     "name": "stdout",
     "output_type": "stream",
     "text": [
      "4\n"
     ]
    }
   ],
   "source": [
    "# minstepsto1\n",
    "import sys\n",
    "\n",
    "def minStepTo1(n,dp):\n",
    "    if n==1:\n",
    "        return 0\n",
    "\n",
    "    ans1=sys.maxsize\n",
    "    if n%3==0:\n",
    "        if dp[n//3]==-1:\n",
    "            ans1=minStepTo1(n//3,dp)\n",
    "        else:\n",
    "            ans1=dp[n//3]\n",
    "\n",
    "    ans2=sys.maxsize\n",
    "    if n%2==0:\n",
    "        if dp[n//2]==-1:\n",
    "            ans2=minStepTo1(n//2,dp)\n",
    "        else:\n",
    "            ans2=dp[n//2]\n",
    "\n",
    "    if dp[n-1]==-1:\n",
    "        ans3=minStepTo1(n-1,dp)\n",
    "    else:\n",
    "        ans3=dp[n-1]\n",
    "\n",
    "    return 1+min(ans1,ans2,ans3)\n",
    "\n",
    "n=int(input())\n",
    "dp=[-1 for i in range(n+1)]\n",
    "print(minStepTo1(n,dp))"
   ]
  },
  {
   "cell_type": "code",
   "execution_count": 12,
   "metadata": {},
   "outputs": [
    {
     "name": "stdout",
     "output_type": "stream",
     "text": [
      "2\n"
     ]
    }
   ],
   "source": [
    "# min square to represent a number\n",
    "import sys,math\n",
    "\n",
    "def minSquare(n,dp):\n",
    "    if n==0:\n",
    "        return 0\n",
    "    ans=sys.maxsize    \n",
    "    sqrtn=int(math.sqrt(n))\n",
    "    for i in range(1,sqrtn+1):\n",
    "        newCheckValue=n-i**2\n",
    "        if dp[newCheckValue]==-1:\n",
    "            smallAns=minSquare(newCheckValue,dp)\n",
    "            dp[newCheckValue]=smallAns\n",
    "            curr_ans=1+smallAns\n",
    "        else:\n",
    "            curr_ans=1+dp[newCheckValue]\n",
    "        ans=min(ans,curr_ans)\n",
    "    return ans\n",
    "\n",
    "n=int(input())\n",
    "dp=[-1 for i in range(n+1)]\n",
    "print(minSquare(n,dp))\n",
    "\n",
    "            \n",
    "\n",
    "\n"
   ]
  },
  {
   "cell_type": "code",
   "execution_count": null,
   "metadata": {},
   "outputs": [],
   "source": [
    "#minsquare inteatiately pending\n"
   ]
  },
  {
   "cell_type": "code",
   "execution_count": 15,
   "metadata": {},
   "outputs": [
    {
     "name": "stdout",
     "output_type": "stream",
     "text": [
      "4\n"
     ]
    }
   ],
   "source": [
    "def lis(li,i,n,dp):\n",
    "    if n==i:\n",
    "        return 0,0\n",
    "    includingMax=1\n",
    "    for j in range(i+1,n):\n",
    "        if li[j]>=li[i]:\n",
    "            if dp[j]==-1:\n",
    "                ans=lis(li,j,n,dp)\n",
    "                dp[j]=ans\n",
    "                furtherIncludingMax=ans[0]\n",
    "            else:\n",
    "                furtherIncludingMax=dp[j][0]\n",
    "\n",
    "            includingMax=max(includingMax,1+includingMax)\n",
    "    if dp[i+1]==-1:\n",
    "        ans=lis(li,i+1,n,dp)\n",
    "        dp[i+1]=ans\n",
    "        excludingMax=ans[1]\n",
    "    else:\n",
    "        excludingMax=dp[i+1][1]\n",
    "\n",
    "    overallMax=max(includingMax,excludingMax)\n",
    "    return includingMax,overallMax\n",
    "\n",
    "\n",
    "\n",
    "\n",
    "n=int(input())\n",
    "li=[int(e) for e in input().split()]\n",
    "dp=[-1 for i in range(n+1)]\n",
    "ans=lis(li,0,n,dp)[1]\n",
    "print(ans)"
   ]
  },
  {
   "cell_type": "code",
   "execution_count": 16,
   "metadata": {},
   "outputs": [
    {
     "name": "stdout",
     "output_type": "stream",
     "text": [
      "4\n"
     ]
    }
   ],
   "source": [
    "def lisI(li,n):\n",
    "    dp=[[0 for i  in range(2)] for j in range(n+1)]\n",
    "\n",
    "    for i in range(n-1,-1,-1):\n",
    "        includingMax=1\n",
    "        for j in range(i+1,n):\n",
    "            if li[j]>li[i]:\n",
    "                includingMax=max(includingMax,1+dp[j][0])\n",
    "        dp[i][0]=includingMax\n",
    "        excludingMax=dp[i+1][1]\n",
    "        overallMax=max(includingMax,excludingMax)\n",
    "        dp[i][1]=overallMax\n",
    "    return dp[0][1]\n",
    "\n",
    "\n",
    "n=int(input())\n",
    "li=[int(e) for e in input().split()]\n",
    "ans=lisI(li,n)\n",
    "print(ans)"
   ]
  }
 ],
 "metadata": {
  "kernelspec": {
   "display_name": "Python 3.10.6 64-bit",
   "language": "python",
   "name": "python3"
  },
  "language_info": {
   "codemirror_mode": {
    "name": "ipython",
    "version": 3
   },
   "file_extension": ".py",
   "mimetype": "text/x-python",
   "name": "python",
   "nbconvert_exporter": "python",
   "pygments_lexer": "ipython3",
   "version": "3.10.6"
  },
  "orig_nbformat": 4,
  "vscode": {
   "interpreter": {
    "hash": "26de051ba29f2982a8de78e945f0abaf191376122a1563185a90213a26c5da77"
   }
  }
 },
 "nbformat": 4,
 "nbformat_minor": 2
}
