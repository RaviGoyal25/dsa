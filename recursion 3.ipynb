{
 "cells": [
  {
   "cell_type": "code",
   "execution_count": 4,
   "metadata": {},
   "outputs": [
    {
     "name": "stdout",
     "output_type": "stream",
     "text": [
      "['', 'd', 'c', 'cd', 'b', 'bd', 'bc', 'bcd', 'a', 'ad', 'ac', 'acd', 'ab', 'abd', 'abc', 'abcd']\n"
     ]
    }
   ],
   "source": [
    "# all subssequences of string\n",
    "\n",
    "def subsequence(s):\n",
    "    if len(s)==0:\n",
    "        output=[]\n",
    "        output.append(\"\")\n",
    "        return output\n",
    "    smaller=s[1:]\n",
    "    output=subsequence(smaller)\n",
    "    a=[]\n",
    "    for i in output:\n",
    "        a.append(i)\n",
    "    for i in output:\n",
    "        a.append(s[0]+i)\n",
    "    return a\n",
    "\n",
    "s=\"abcd\"\n",
    "print(subsequence(s))\n",
    "        \n",
    "        \n",
    "    "
   ]
  },
  {
   "cell_type": "code",
   "execution_count": null,
   "metadata": {},
   "outputs": [],
   "source": [
    "#  keypad subsequence\n",
    "def getstring(n):\n",
    "    if n==2:\n",
    "        return \"abc\"\n",
    "    elif n==3:\n",
    "        return \"def\"\n",
    "    elif n==4:\n",
    "        return \"ghi\"\n",
    "    elif n==5:\n",
    "        return \"jkl\"\n",
    "    elif n==6:\n",
    "        return \"mno\"\n",
    "    elif n==7:\n",
    "        return \"pqrs\"\n",
    "    elif n==8:\n",
    "        return \"uvw\"\n",
    "    elif n==9:\n",
    "        return \"xyz\"\n",
    "def keypad(n):\n",
    "    if n==0:\n",
    "        output=[]\n",
    "        output.append(\"\")\n",
    "        return output\n",
    "    smaller=n//10\n",
    "    lastdigit=n%10\n",
    "    smalleroutput=keypad(smaller)\n",
    "    s=getstring(lastdigit)\n",
    "    a=[]\n",
    "    for i in smalleroutput:\n",
    "        for j in s:\n",
    "            a.append(i+j)\n",
    "    return a\n",
    "\n",
    "            \n",
    "keypad(275) "
   ]
  },
  {
   "cell_type": "code",
   "execution_count": 21,
   "metadata": {},
   "outputs": [
    {
     "name": "stdout",
     "output_type": "stream",
     "text": [
      "120\n"
     ]
    }
   ],
   "source": [
    "# print factorial output by recursive function\n",
    "\n",
    "def fact(n,ans):\n",
    "    if n==0:\n",
    "        print(ans)\n",
    "        return\n",
    "    ans=ans*n\n",
    "    fact(n-1,ans)\n",
    "fact(5,1)"
   ]
  },
  {
   "cell_type": "code",
   "execution_count": null,
   "metadata": {},
   "outputs": [],
   "source": [
    "# minimum from array\n",
    "\n",
    "def minarray(l):\n",
    "    if len(l)==1:\n",
    "        return l[0]\n",
    "    smaller=minarray(l[1:])\n",
    "    return min(smaller,l[0])\n",
    "\n",
    "print(minarray([1,-20,3,4,0,-8,12]))"
   ]
  },
  {
   "cell_type": "code",
   "execution_count": 28,
   "metadata": {},
   "outputs": [
    {
     "name": "stdout",
     "output_type": "stream",
     "text": [
      "-40\n"
     ]
    }
   ],
   "source": [
    "# print minimum from array from recursive array\n",
    "\n",
    "def minarray(l,minsofar):\n",
    "    if len(l)==0:\n",
    "        print(minsofar)\n",
    "        return\n",
    "    minsofar=min(minsofar,l[0])\n",
    "    minarray(l[1:],minsofar)\n",
    "    \n",
    "minarray([1,-20,3,-40,0,-8,12],10000)\n",
    "    "
   ]
  },
  {
   "cell_type": "code",
   "execution_count": 1,
   "metadata": {},
   "outputs": [
    {
     "name": "stdout",
     "output_type": "stream",
     "text": [
      "['', [4], [3], [3, 4], [2], [2, 4], [2, 3], [2, 3, 4], [1], [1, 4], [1, 3], [1, 3, 4], [1, 2], [1, 2, 4], [1, 2, 3], [1, 2, 3, 4]]\n",
      "[2, 4]\n",
      "[1, 2, 3]\n"
     ]
    }
   ],
   "source": [
    "# find all subset of array\n",
    "\n",
    "def subset(l):\n",
    "    if len(l)==0:\n",
    "        output=[]\n",
    "        output.append(\"\")\n",
    "        return output\n",
    "    smaller=subset(l[1:])\n",
    "    a=[]\n",
    "    for i in smaller:\n",
    "        a.append(i)\n",
    "    for i in smaller:\n",
    "        temp=[]\n",
    "        temp.append(l[0])\n",
    "        if i!=\"\":\n",
    "            for k in i:\n",
    "                temp.append(k)\n",
    "        \n",
    "        a.append(temp)\n",
    "    return a\n",
    "\n",
    "l=subset([1,2,3,4])\n",
    "print(l)\n",
    "for i in l:\n",
    "    if sum(i)==6:\n",
    "        print(i)\n",
    "\n",
    "        "
   ]
  },
  {
   "cell_type": "code",
   "execution_count": null,
   "metadata": {},
   "outputs": [],
   "source": []
  },
  {
   "cell_type": "code",
   "execution_count": null,
   "metadata": {},
   "outputs": [],
   "source": []
  }
 ],
 "metadata": {
  "kernelspec": {
   "display_name": "Python 3.10.6 64-bit",
   "language": "python",
   "name": "python3"
  },
  "language_info": {
   "codemirror_mode": {
    "name": "ipython",
    "version": 3
   },
   "file_extension": ".py",
   "mimetype": "text/x-python",
   "name": "python",
   "nbconvert_exporter": "python",
   "pygments_lexer": "ipython3",
   "version": "3.10.6"
  },
  "vscode": {
   "interpreter": {
    "hash": "26de051ba29f2982a8de78e945f0abaf191376122a1563185a90213a26c5da77"
   }
  }
 },
 "nbformat": 4,
 "nbformat_minor": 4
}
