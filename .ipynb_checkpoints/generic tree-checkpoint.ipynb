{
 "cells": [
  {
   "cell_type": "code",
   "execution_count": 1,
   "metadata": {},
   "outputs": [],
   "source": [
    "class TreeNode:\n",
    "    def __init__(self,data):\n",
    "        self.data=data\n",
    "        self.children=list()\n"
   ]
  },
  {
   "cell_type": "code",
   "execution_count": 7,
   "metadata": {},
   "outputs": [],
   "source": [
    "def printtree(root):\n",
    "    # not a base case but an edge case\n",
    "    if root==None:\n",
    "        return\n",
    "    print(root.data)\n",
    "    for child in root.children:\n",
    "        printtree(child)\n"
   ]
  },
  {
   "cell_type": "code",
   "execution_count": 13,
   "metadata": {},
   "outputs": [],
   "source": [
    "def printtreedetailed(root):\n",
    "    if root==None:\n",
    "        return \n",
    "    print(root.data,\":\",end=\"\")\n",
    "    for child in root.children:\n",
    "        print(child.data,end=\",\")\n",
    "    print()\n",
    "    for child in root.children:\n",
    "        printtreedetailed(child)\n",
    "    \n",
    "        "
   ]
  },
  {
   "cell_type": "code",
   "execution_count": 17,
   "metadata": {},
   "outputs": [],
   "source": [
    "def taketreeinput():\n",
    "    print(\"enter root data\")\n",
    "    rootdata=int(input())\n",
    "    # not a base case but an edge case\n",
    "    if rootdata==-1:\n",
    "        return\n",
    "    root=TreeNode(rootdata)\n",
    "    print(\"enter the number of children\")\n",
    "    child=int(input())\n",
    "    for i in range(child):\n",
    "        child=taketreeinput()\n",
    "        root.children.append(child)\n",
    "    return root\n",
    "    \n",
    "    "
   ]
  },
  {
   "cell_type": "code",
   "execution_count": null,
   "metadata": {},
   "outputs": [],
   "source": [
    "def numnodes():\n",
    "    if root==None:\n",
    "        return 0\n",
    "    count=1\n",
    "    for child in root.children:\n",
    "        count=count+numnodes(child)\n",
    "    "
   ]
  },
  {
   "cell_type": "code",
   "execution_count": 18,
   "metadata": {},
   "outputs": [
    {
     "name": "stdout",
     "output_type": "stream",
     "text": [
      "enter root data\n",
      "5\n",
      "enter the number of children\n",
      "1\n",
      "enter root data\n",
      "4\n",
      "enter the number of children\n",
      "0\n",
      "5 :4,\n",
      "4 :\n"
     ]
    }
   ],
   "source": [
    "root=taketreeinput()\n",
    "printtreedetailed(root)"
   ]
  },
  {
   "cell_type": "code",
   "execution_count": null,
   "metadata": {},
   "outputs": [],
   "source": []
  }
 ],
 "metadata": {
  "kernelspec": {
   "display_name": "Python 3",
   "language": "python",
   "name": "python3"
  },
  "language_info": {
   "codemirror_mode": {
    "name": "ipython",
    "version": 3
   },
   "file_extension": ".py",
   "mimetype": "text/x-python",
   "name": "python",
   "nbconvert_exporter": "python",
   "pygments_lexer": "ipython3",
   "version": "3.8.3"
  }
 },
 "nbformat": 4,
 "nbformat_minor": 4
}
