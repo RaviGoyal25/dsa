{
 "cells": [
  {
   "cell_type": "code",
   "execution_count": 13,
   "metadata": {},
   "outputs": [
    {
     "name": "stdout",
     "output_type": "stream",
     "text": [
      "[0, 1, 2, 3, 5, 6, 7]\n"
     ]
    }
   ],
   "source": [
    "#Selection sort \n",
    "a=[1,5,3,7,2,6,0]\n",
    "\n",
    "for i in range(len(a)-1):\n",
    "    minindex=i\n",
    "    for j in range(i+1,len(a)):\n",
    "        if a[minindex]>a[j]:\n",
    "            minindex=j\n",
    "    a[i],a[minindex]=a[minindex],a[i]\n",
    "print(a)\n",
    "\n",
    "            \n",
    "        \n",
    "    "
   ]
  },
  {
   "cell_type": "code",
   "execution_count": 22,
   "metadata": {},
   "outputs": [
    {
     "name": "stdout",
     "output_type": "stream",
     "text": [
      "[0, 1, 2, 3, 5, 6, 7]\n"
     ]
    }
   ],
   "source": [
    "# Bubble sort\n",
    "a=[1,5,3,7,2,6,0]\n",
    "for i in range(len(a)-1):\n",
    "    for j in range(0,len(a)-i-1):\n",
    "        if a[j]>a[j+1]:\n",
    "            a[j],a[j+1]=a[j+1],a[j]\n",
    "print(a)"
   ]
  },
  {
   "cell_type": "code",
   "execution_count": 5,
   "metadata": {},
   "outputs": [
    {
     "name": "stdout",
     "output_type": "stream",
     "text": [
      "[1, 2, 3, 4, 5, 6, 7, 8, 9]\n"
     ]
    }
   ],
   "source": [
    "# insertion sort\n",
    "\n",
    "a=[9,8,7,6,5,4,3,2,1]\n",
    "for i in range(1,len(a)):\n",
    "    j=i-1\n",
    "    temp=a[i]\n",
    "    while(j>=0 and a[j]>temp):\n",
    "        a[j+1]=a[j]\n",
    "        j-=1\n",
    "    a[j+1]=temp   \n",
    "print(a)\n",
    "        "
   ]
  },
  {
   "cell_type": "code",
   "execution_count": 9,
   "metadata": {},
   "outputs": [
    {
     "name": "stdout",
     "output_type": "stream",
     "text": [
      "[1, 5, 12, 17, 20, 28]\n"
     ]
    }
   ],
   "source": [
    "# merge sort \n",
    "def merge(a1,a2,a):\n",
    "    i=0\n",
    "    j=0\n",
    "    k=0\n",
    "    while(i<len(a1) and j<len(a2)):\n",
    "        if a1[i]<a2[j]:\n",
    "            a[k]=a1[i]\n",
    "            i+=1\n",
    "            k+=1\n",
    "        else:\n",
    "            a[k]=a2[j]\n",
    "            j+=1\n",
    "            k+=1\n",
    "    while(i<len(a1)):\n",
    "        a[k]=a1[i]\n",
    "        i+=1\n",
    "        k+=1\n",
    "    while(j<len(a2)):\n",
    "        a[k]=a2[j]\n",
    "        j+=1\n",
    "        k+=1\n",
    "    \n",
    "        \n",
    "def mergesort(a):\n",
    "    if len(a)==0 or len(a)==1:\n",
    "        return \n",
    "    mid=len(a)//2\n",
    "    a1=a[0:mid]\n",
    "    a2=a[mid:]\n",
    "    mergesort(a1)\n",
    "    mergesort(a2)\n",
    "    merge(a1,a2,a)\n",
    "\n",
    "l=[12,1,5,20,17,28]   \n",
    "mergesort(l)\n",
    "print(l)"
   ]
  },
  {
   "cell_type": "code",
   "execution_count": 7,
   "metadata": {},
   "outputs": [
    {
     "name": "stdout",
     "output_type": "stream",
     "text": [
      "[0, 1, 2, 4, 5, 6, 7, 9, 10, 18, 50, 80]\n"
     ]
    }
   ],
   "source": [
    "# quicksort using last element as pivot\n",
    "def partition(a,si,ei):\n",
    "    pivot=a[ei]\n",
    "    i=si-1\n",
    "    j=si\n",
    "    while(j<ei):\n",
    "        if a[j]<pivot:\n",
    "            i+=1\n",
    "            a[i],a[j]=a[j],a[i]\n",
    "        j=j+1\n",
    "    a[i+1],a[ei]=a[ei],a[i+1]\n",
    "    return i+1\n",
    "        \n",
    "def quicksort(a,si,ei):\n",
    "    if si<ei:\n",
    "        p=partition(a,si,ei)\n",
    "        quicksort(a,si,p-1)\n",
    "        quicksort(a,p+1,ei)\n",
    "\n",
    "        \n",
    "        \n",
    "l=[9,80,10,6,50,4,0,5,1,2,18,7]\n",
    "quicksort(l,0,11)\n",
    "print(l)\n"
   ]
  },
  {
   "cell_type": "code",
   "execution_count": 8,
   "metadata": {},
   "outputs": [
    {
     "name": "stdout",
     "output_type": "stream",
     "text": [
      "[0, 1, 2, 4, 5, 6, 7, 9, 10, 18, 50, 80]\n"
     ]
    }
   ],
   "source": [
    "# quicksort using first element as pivot\n",
    "def partition1(a,si,ei):\n",
    "    pivot=a[si]\n",
    "    i=si\n",
    "    j=si+1\n",
    "    while(j<=ei):\n",
    "        if a[j]<pivot:\n",
    "            i+=1\n",
    "            a[i],a[j]=a[j],a[i]\n",
    "        j=j+1\n",
    "    a[i],a[si]=a[si],a[i]\n",
    "    return i\n",
    "        \n",
    "def quicksort1(a,si,ei):\n",
    "    if si<ei:\n",
    "        p=partition1(a,si,ei)\n",
    "        quicksort1(a,si,p-1)\n",
    "        quicksort1(a,p+1,ei)\n",
    "\n",
    "        \n",
    "        \n",
    "l=[9,80,10,6,50,4,0,5,1,2,18,7]\n",
    "quicksort1(l,0,11)\n",
    "print(l)"
   ]
  },
  {
   "cell_type": "code",
   "execution_count": null,
   "metadata": {},
   "outputs": [],
   "source": []
  }
 ],
 "metadata": {
  "kernelspec": {
   "display_name": "Python 3",
   "language": "python",
   "name": "python3"
  },
  "language_info": {
   "codemirror_mode": {
    "name": "ipython",
    "version": 3
   },
   "file_extension": ".py",
   "mimetype": "text/x-python",
   "name": "python",
   "nbconvert_exporter": "python",
   "pygments_lexer": "ipython3",
   "version": "3.8.3"
  }
 },
 "nbformat": 4,
 "nbformat_minor": 4
}
