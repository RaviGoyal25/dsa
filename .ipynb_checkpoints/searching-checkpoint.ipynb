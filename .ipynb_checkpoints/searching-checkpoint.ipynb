{
 "cells": [
  {
   "cell_type": "code",
   "execution_count": 3,
   "metadata": {},
   "outputs": [
    {
     "name": "stdout",
     "output_type": "stream",
     "text": [
      "1 2 10 85 12 14\n",
      "100\n",
      "number is not present\n"
     ]
    }
   ],
   "source": [
    "# Linear search \n",
    "\n",
    "l=[int(x) for x in input().split()]\n",
    "num=int(input())\n",
    "for i in range(len(l)):\n",
    "    if l[i]==num:\n",
    "        print(\"number is present at index \"+str(i))\n",
    "        break\n",
    "else:\n",
    "    print(\"number is not present\")\n",
    "    "
   ]
  },
  {
   "cell_type": "code",
   "execution_count": 7,
   "metadata": {},
   "outputs": [
    {
     "name": "stdout",
     "output_type": "stream",
     "text": [
      "10 22 30 35 42 50\n",
      "60\n",
      "Number not present\n"
     ]
    }
   ],
   "source": [
    "# Binary Search\n",
    "l=[int(x) for x in input().split()]\n",
    "num=int(input())\n",
    "start=0\n",
    "end=len(l)-1\n",
    "while(start<=end):\n",
    "    mid=(start+end)//2\n",
    "    if l[mid]==num:\n",
    "        print(\"number is present at index \"+str(mid))\n",
    "        break\n",
    "    else:\n",
    "        if l[mid]>num:\n",
    "            end=mid-1\n",
    "        else:\n",
    "            start=mid+1\n",
    "else:\n",
    "    print(\"Number not present\")\n",
    "            \n",
    "            "
   ]
  },
  {
   "cell_type": "code",
   "execution_count": null,
   "metadata": {},
   "outputs": [],
   "source": []
  },
  {
   "cell_type": "code",
   "execution_count": null,
   "metadata": {},
   "outputs": [],
   "source": []
  },
  {
   "cell_type": "code",
   "execution_count": null,
   "metadata": {},
   "outputs": [],
   "source": []
  }
 ],
 "metadata": {
  "kernelspec": {
   "display_name": "Python 3",
   "language": "python",
   "name": "python3"
  },
  "language_info": {
   "codemirror_mode": {
    "name": "ipython",
    "version": 3
   },
   "file_extension": ".py",
   "mimetype": "text/x-python",
   "name": "python",
   "nbconvert_exporter": "python",
   "pygments_lexer": "ipython3",
   "version": "3.8.3"
  }
 },
 "nbformat": 4,
 "nbformat_minor": 4
}
