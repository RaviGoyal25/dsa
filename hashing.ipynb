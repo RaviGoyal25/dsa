{
 "cells": [
  {
   "cell_type": "code",
   "execution_count": null,
   "metadata": {},
   "outputs": [],
   "source": [
    "d={\"a\":1,\"b\":2,\"c\":3}\n",
    "d[\"d\"]=4\n",
    "print(d)\n"
   ]
  },
  {
   "cell_type": "code",
   "execution_count": null,
   "metadata": {},
   "outputs": [],
   "source": [
    "d1=dict.fromkeys([\"a\",\"b\",\"c\"])\n",
    "print(d1)\n",
    "d2=dict.fromkeys([\"a\",\"b\",\"c\"],4)\n",
    "print(d2)\n",
    "len(d1)\n",
    "\n",
    "d3=d2.copy()\n",
    "d3[\"a\"]=2\n",
    "print(d2)\n",
    "print(d3)"
   ]
  },
  {
   "cell_type": "code",
   "execution_count": 1,
   "metadata": {},
   "outputs": [
    {
     "name": "stdout",
     "output_type": "stream",
     "text": [
      "None\n",
      "0\n"
     ]
    }
   ],
   "source": [
    "d={\"a\":1,\"b\":2,\"c\":3}\n",
    "print(d.get(\"d\")) # return none if \"d\" is not present\n",
    "print(d.get(\"d\",0)) # get give no error if element is not present \n",
    "# print(d[\"d\"]) error"
   ]
  },
  {
   "cell_type": "code",
   "execution_count": null,
   "metadata": {},
   "outputs": [],
   "source": [
    "print(d.keys())\n",
    "print(d.values())\n",
    "print(d.items())"
   ]
  },
  {
   "cell_type": "code",
   "execution_count": null,
   "metadata": {},
   "outputs": [],
   "source": [
    "for i in d.keys():\n",
    "    print(i,d[i])\n",
    "\n",
    "for i in d.values():\n",
    "    print(i)\n",
    "\n",
    "print(\"a\" in d)\n",
    "\n",
    "\n"
   ]
  },
  {
   "cell_type": "code",
   "execution_count": 27,
   "metadata": {},
   "outputs": [
    {
     "name": "stdout",
     "output_type": "stream",
     "text": [
      "{'a': 1, 'b': 2, 'c': 5, 'd': 6}\n",
      "{'b': 2, 'c': 5, 'd': 6}\n",
      "{'c': 5, 'd': 6}\n",
      "{}\n",
      "<class 'dict'>\n"
     ]
    }
   ],
   "source": [
    "dict={\"a\":1,\"b\":2,\"c\":3}\n",
    "b={\"c\":5,\"d\":6}\n",
    "dict.update(b)\n",
    "print(dict)\n",
    "\n",
    "del dict[\"a\"]\n",
    "print(dict)\n",
    "dict.pop(\"b\")\n",
    "print(dict)\n",
    "dict.clear()\n",
    "print(dict)\n",
    "del dict\n",
    "print(dict)\n",
    "\n"
   ]
  },
  {
   "cell_type": "code",
   "execution_count": 31,
   "metadata": {},
   "outputs": [
    {
     "name": "stdout",
     "output_type": "stream",
     "text": [
      "is\n",
      "a\n",
      "contain\n"
     ]
    }
   ],
   "source": [
    "def kFreqWords(s,k):\n",
    "    d={}\n",
    "    temp=s.split()\n",
    "    for word in temp:\n",
    "        d[word]=d.get(word,0)+1\n",
    "    for key in d:\n",
    "        if d[key]==k:\n",
    "            print(key)\n",
    "s=\"this is a word contain many many word this\"\n",
    "kFreqWords(s,1)\n"
   ]
  },
  {
   "cell_type": "code",
   "execution_count": 26,
   "metadata": {},
   "outputs": [
    {
     "name": "stdout",
     "output_type": "stream",
     "text": [
      "0 5\n",
      "1 5\n",
      "2 5\n",
      "bs 5\n",
      "bs 10\n",
      "3 10\n",
      "4 10\n",
      "5 10\n",
      "6 10\n",
      "bs 10\n",
      "bs 20\n",
      "7 20\n",
      "8 20\n",
      "9 20\n"
     ]
    }
   ],
   "source": [
    "class MapNode:\n",
    "    def __init__(self,key,value):\n",
    "        self.key=key\n",
    "        self.value=value\n",
    "        self.next=next\n",
    "\n",
    "class Map():\n",
    "    def __init__(self):\n",
    "        self.bucketSize=5\n",
    "        self.buckets=[None for i in range(self.bucketSize)] \n",
    "        self.count=0\n",
    "    \n",
    "    def size(self):\n",
    "        return self.count\n",
    "\n",
    "    def getBucketIndex(self,hc):\n",
    "        return (abs(hc)%(self.bucketSize))\n",
    "\n",
    "    def getValue(self,key):\n",
    "        hc=hash(key)\n",
    "        index=self.getBucketIndex(hc)\n",
    "        head=self.buckets[index]\n",
    "        while head is not None:\n",
    "            if head.key==key:\n",
    "                return head.value\n",
    "            head=head.next\n",
    "        return None\n",
    "    \n",
    "    def removeKey(self,key):\n",
    "        hc=hash(key)\n",
    "        index=self.getBucketIndex(hc)\n",
    "        head=self.buckets[index]\n",
    "        prev=None\n",
    "        while head is not None:\n",
    "            if head.key==key:\n",
    "                if prev is None:\n",
    "                    self.buckets[index]=head.next\n",
    "                else:\n",
    "                    prev.next=head.next\n",
    "                self.count-=1\n",
    "                return head.value\n",
    "            head=head.next\n",
    "        return None\n",
    "\n",
    "    def rehash(self):\n",
    "        temp=self.buckets\n",
    "        self.buckets=[None for i in range(2*self.bucketSize)]\n",
    "        print(\"bs\",self.bucketSize)\n",
    "        self.bucketSize=2*self.bucketSize\n",
    "        print(\"bs\",self.bucketSize)\n",
    "        self.count=0\n",
    "\n",
    "        for head in temp:\n",
    "            while head is not None:\n",
    "                self.insert(head.key,head.value)\n",
    "                head=head.next\n",
    "        \n",
    "\n",
    "    def insert(self,key,value):\n",
    "        hc=hash(key)\n",
    "        index=self.getBucketIndex(hc)\n",
    "        head=self.buckets[index]\n",
    "        while head is not None:\n",
    "            if head.key==key:\n",
    "                head.value=value\n",
    "                return\n",
    "            head=head.next\n",
    "        newNode=MapNode(key,value)\n",
    "        newNode.next=self.buckets[index]\n",
    "        self.buckets[index]=newNode\n",
    "        self.count+=1\n",
    "        loadFactor=self.count/self.bucketSize\n",
    "        if loadFactor>0.7:\n",
    "            self.rehash()\n",
    "\n",
    "\n",
    "m=Map()\n",
    "for i in range(10):\n",
    "    m.insert(\"a\"+str(i),i)\n",
    "    print(i,m.bucketSize)\n",
    "\n",
    "\n",
    "        \n",
    "    \n"
   ]
  },
  {
   "cell_type": "code",
   "execution_count": 6,
   "metadata": {},
   "outputs": [
    {
     "name": "stdout",
     "output_type": "stream",
     "text": [
      "-7617167595337238467\n"
     ]
    }
   ],
   "source": []
  },
  {
   "cell_type": "code",
   "execution_count": null,
   "metadata": {},
   "outputs": [],
   "source": []
  }
 ],
 "metadata": {
  "kernelspec": {
   "display_name": "Python 3.10.6 64-bit",
   "language": "python",
   "name": "python3"
  },
  "language_info": {
   "codemirror_mode": {
    "name": "ipython",
    "version": 3
   },
   "file_extension": ".py",
   "mimetype": "text/x-python",
   "name": "python",
   "nbconvert_exporter": "python",
   "pygments_lexer": "ipython3",
   "version": "3.10.6"
  },
  "orig_nbformat": 4,
  "vscode": {
   "interpreter": {
    "hash": "26de051ba29f2982a8de78e945f0abaf191376122a1563185a90213a26c5da77"
   }
  }
 },
 "nbformat": 4,
 "nbformat_minor": 2
}
