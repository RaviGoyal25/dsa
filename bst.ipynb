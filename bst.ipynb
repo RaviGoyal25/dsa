{
 "cells": [
  {
   "cell_type": "code",
   "execution_count": null,
   "metadata": {},
   "outputs": [],
   "source": [
    "class BinaryTreeNode:\n",
    "    def __init__(self,data):\n",
    "        self.data=data\n",
    "        self.left=None\n",
    "        self.right=None"
   ]
  },
  {
   "cell_type": "code",
   "execution_count": null,
   "metadata": {},
   "outputs": [],
   "source": [
    "import queue\n",
    "def takelevelwisetreeinput():\n",
    "    print(\"enter root\")\n",
    "    root=int(input())\n",
    "    if root==-1:\n",
    "        return None\n",
    "    root=BinaryTreeNode(root)\n",
    "    q=queue.Queue()\n",
    "    q.put(root)\n",
    "    while(not(q.empty())):\n",
    "        currentnode=q.get()\n",
    "        print(\"enter the left child of \",currentnode.data)\n",
    "        leftchild=int(input())\n",
    "        if leftchild!=-1:\n",
    "            leftchild=BinaryTreeNode(leftchild)\n",
    "            currentnode.left=leftchild\n",
    "            q.put(leftchild)\n",
    "        print(\"enter the right child of \",currentnode.data)\n",
    "        rightchild=int(input())\n",
    "        if rightchild!=-1:\n",
    "            rightchild=BinaryTreeNode(rightchild)\n",
    "            currentnode.right=rightchild\n",
    "            q.put(rightchild)\n",
    "    return root  "
   ]
  },
  {
   "cell_type": "code",
   "execution_count": null,
   "metadata": {},
   "outputs": [],
   "source": [
    "def printlevelwise(root):\n",
    "    if root==None:\n",
    "        return None\n",
    "    q=queue.Queue()\n",
    "    q.put(root)\n",
    "    while(not(q.empty())):\n",
    "        root=q.get()\n",
    "        print(root.data,end=\":\")\n",
    "        if root.left!=None:\n",
    "            print(\"L\",root.left.data,end=\",\")\n",
    "            q.put(root.left)\n",
    "        if root.right!=None:\n",
    "            print(\"R\",root.right.data,end=\"\")\n",
    "            q.put(root.right)\n",
    "        print()   "
   ]
  },
  {
   "cell_type": "code",
   "execution_count": null,
   "metadata": {},
   "outputs": [],
   "source": [
    "def search(root,x):\n",
    "    if root==None:\n",
    "        return False\n",
    "    if root.data==x:\n",
    "        return True\n",
    "    elif root.data>x:\n",
    "        return search(root.left,x)\n",
    "    else:\n",
    "        return search(root.right,x)\n",
    "\n",
    "\n",
    "        \n",
    "    "
   ]
  },
  {
   "cell_type": "code",
   "execution_count": null,
   "metadata": {},
   "outputs": [],
   "source": [
    "def printbetweenk1k2(root,k1,k2):\n",
    "    if root==None:\n",
    "        return None\n",
    "    if root.data>k2:\n",
    "        printbetweenk1k2(root.left,k1,k2)\n",
    "    elif root.data<k1:\n",
    "        printbetweenk1k2(root.right,k1,k2)\n",
    "    else:\n",
    "        print(root.data)\n",
    "        printbetweenk1k2(root.left,k1,k2)\n",
    "        printbetweenk1k2(root.right,k1,k2)\n",
    "        \n",
    "    \n",
    "    "
   ]
  },
  {
   "cell_type": "code",
   "execution_count": null,
   "metadata": {},
   "outputs": [],
   "source": [
    "def mintree(root):\n",
    "    if root==None:\n",
    "        return 10000\n",
    "    left=mintree(root.left)\n",
    "    right=mintree(root.right)\n",
    "    return min(left,right,root.data)\n",
    "    "
   ]
  },
  {
   "cell_type": "code",
   "execution_count": null,
   "metadata": {},
   "outputs": [],
   "source": [
    "def maxtree(root):\n",
    "    if root==None:\n",
    "        return -10000\n",
    "    left=maxtree(root.left)\n",
    "    right=maxtree(root.right)\n",
    "    return max(left,right,root.data)"
   ]
  },
  {
   "cell_type": "code",
   "execution_count": null,
   "metadata": {},
   "outputs": [],
   "source": [
    "def isbst(root):\n",
    "    if root==None:\n",
    "        return True\n",
    "    left=maxtree(root.left)\n",
    "    right=mintree(root.right)\n",
    "    if root.data<left or root.data>right:\n",
    "        return False\n",
    "    isleftbst=isbst(root.left)\n",
    "    isrightbst=isbst(root.right)\n",
    "    \n",
    "    return isleftbst and isrightbst\n",
    "\n",
    "    "
   ]
  },
  {
   "cell_type": "code",
   "execution_count": null,
   "metadata": {},
   "outputs": [],
   "source": [
    "def isbst2(root):\n",
    "    if root==None:\n",
    "        return 100000,-100000,True\n",
    "    leftmin,leftmax,isleftbst=isbst2(root.left)\n",
    "    rightmin,rightmax,isrightbst=isbst2(root.right)\n",
    "    minimum=min(leftmin,rightmin,root.data)\n",
    "    maximum=max(leftmax,rightmax,root.data)\n",
    "    isbst=True\n",
    "    if root.data<=leftmax or root.data>rightmin:\n",
    "        isbst=False\n",
    "    if not(isleftbst) or not(isrightbst):\n",
    "        isbst=False\n",
    "    return minimum,maximum,isbst\n",
    "        \n",
    "        \n",
    "    \n",
    "    "
   ]
  },
  {
   "cell_type": "code",
   "execution_count": null,
   "metadata": {},
   "outputs": [],
   "source": [
    "def isbst3(root,min_range,max_range):\n",
    "    if root==None:\n",
    "        return True\n",
    "    if root.data<min_range or root.data>max_range:\n",
    "        return False\n",
    "    isleftok=isbst3(root.left,min_range,root.data-1)\n",
    "    isrightok=isbst3(root.right,root.data,max_range)\n",
    "    return isleftok and isrightok"
   ]
  },
  {
   "cell_type": "code",
   "execution_count": null,
   "metadata": {},
   "outputs": [],
   "source": [
    "# in case of binary tree.\n",
    "def roottonodepath(root,s):\n",
    "    if root==None:\n",
    "        return None\n",
    "    if root.data==s:\n",
    "        l=[]\n",
    "        l.append(root.data)\n",
    "        return l\n",
    "    leftoutput=roottonodepath(root.left,s)\n",
    "    if leftoutput!=None:\n",
    "        leftoutput.append(root.data)\n",
    "        return leftoutput\n",
    "    \n",
    "    rightoutput=roottonodepath(root.right,s)\n",
    "    if rightoutput!=None:\n",
    "        rightoutput.append(root.data)\n",
    "        return rightoutput\n",
    "    return None\n"
   ]
  },
  {
   "cell_type": "code",
   "execution_count": null,
   "metadata": {},
   "outputs": [],
   "source": [
    "class BST:\n",
    "    def __init__(self):\n",
    "        self.root=None\n",
    "        self.numnodes=0\n",
    "        \n",
    "    def printTreehelper(self,root):\n",
    "        if root==None:\n",
    "            return\n",
    "        print(root.data,end=\":\")\n",
    "        if root.left!=None:\n",
    "            print(\"L\",root.left.data,end=\",\")\n",
    "        if root.right!=None:\n",
    "            print(\"R\",root.right.data,end=\"\") \n",
    "        print()\n",
    "        self.printTreehelper(root.left)\n",
    "        self.printTreehelper(root.right)\n",
    "            \n",
    "    def printTree(self):\n",
    "        self.printTreehelper(self.root)\n",
    "        \n",
    "    def inserthelper(self,root,data):\n",
    "        if root==None:\n",
    "            node=BinaryTreeNode(data)\n",
    "            return node\n",
    "            \n",
    "        if root.data>data:\n",
    "            root.left=self.inserthelper(root.left,data)\n",
    "            return root\n",
    "        else:\n",
    "            root.right=self.inserthelper(root.right,data)\n",
    "            return root\n",
    "    \n",
    "            \n",
    "    def insert(self,data):\n",
    "        self.numnodes+=1\n",
    "        self.root=self.inserthelper(self.root,data)\n",
    "        \n",
    "    def min(self,root):\n",
    "        if root==None:\n",
    "            return 10000\n",
    "        if root.left==None:\n",
    "            return root.data\n",
    "        return self.min(root.left)\n",
    "    \n",
    "    def deletedatahelper(self,root,data):\n",
    "        if root==None:\n",
    "            return False\n",
    "        if root.data<data:\n",
    "            deleted,newrootrightside=self.deletedatahelper(root.right,data)\n",
    "            root.right=newrootrightside\n",
    "            return deleted,root\n",
    "        if root.data>data:\n",
    "            deleted,newrootleftside=self.deletedatahelper(root.left,data)\n",
    "            root.left=newrootleftside\n",
    "            return deleted,root\n",
    "        if root.left==None and root.right==None:\n",
    "            return True,None\n",
    "        if root.left==None:\n",
    "            return True,root.right\n",
    "        if root.right==None:\n",
    "            return True,root.left\n",
    "        \n",
    "        replacement=self.min(root.right)\n",
    "        root.data=replacement\n",
    "        deleted,newRightNode=self.deletedatahelper(root.right,replacement)\n",
    "        root.right=newRightNode\n",
    "        return True,root\n",
    "        \n",
    "            \n",
    "        \n",
    "            \n",
    "    \n",
    "    def deletedata(self,data):\n",
    "        deleted,newroot=self.deletedatahelper(self.root,data)\n",
    "        if deleted:\n",
    "            self.numnodes-=1\n",
    "        self.root=newroot\n",
    "        return deleted\n",
    "    \n",
    "    def ispresenthelper(self,root,data):\n",
    "        if root==None:\n",
    "            return False\n",
    "        if root.data==data:\n",
    "            return True\n",
    "        if root.data<data:\n",
    "            return self.ispresenthelper(root.right,data)\n",
    "        else:\n",
    "            return self.ispresenthelper(root.left,data)\n",
    "    \n",
    "    def ispresent(self,data):\n",
    "        self.ispresenthelper(self.root,data)\n",
    "            \n",
    "    def count(self):\n",
    "        return self.numnodes\n",
    "    "
   ]
  },
  {
   "cell_type": "code",
   "execution_count": null,
   "metadata": {},
   "outputs": [],
   "source": [
    "b=BST()\n",
    "b.insert(10)\n",
    "b.insert(5)\n",
    "b.insert(7)\n",
    "b.deletedata(10)\n",
    "b.printTree()"
   ]
  },
  {
   "cell_type": "code",
   "execution_count": null,
   "metadata": {},
   "outputs": [],
   "source": [
    "root=takelevelwisetreeinput()\n",
    "roottonodepath(root,7)\n",
    "\n"
   ]
  },
  {
   "cell_type": "markdown",
   "metadata": {},
   "source": [
    "Balanced BST\n",
    "1. AVL Tree,  Red Black Tree"
   ]
  },
  {
   "cell_type": "code",
   "execution_count": null,
   "metadata": {},
   "outputs": [],
   "source": []
  },
  {
   "cell_type": "code",
   "execution_count": null,
   "metadata": {},
   "outputs": [],
   "source": [
    "\n"
   ]
  }
 ],
 "metadata": {
  "kernelspec": {
   "display_name": "Python 3.10.6 64-bit",
   "language": "python",
   "name": "python3"
  },
  "language_info": {
   "codemirror_mode": {
    "name": "ipython",
    "version": 3
   },
   "file_extension": ".py",
   "mimetype": "text/x-python",
   "name": "python",
   "nbconvert_exporter": "python",
   "pygments_lexer": "ipython3",
   "version": "3.10.6"
  },
  "vscode": {
   "interpreter": {
    "hash": "26de051ba29f2982a8de78e945f0abaf191376122a1563185a90213a26c5da77"
   }
  }
 },
 "nbformat": 4,
 "nbformat_minor": 4
}
