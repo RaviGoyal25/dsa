{
 "cells": [
  {
   "cell_type": "code",
   "execution_count": null,
   "metadata": {},
   "outputs": [],
   "source": [
    "class BinaryTreeNode:\n",
    "    def __init__(self,data):\n",
    "        self.data=data\n",
    "        self.left=None\n",
    "        self.right=None\n"
   ]
  },
  {
   "cell_type": "code",
   "execution_count": null,
   "metadata": {},
   "outputs": [],
   "source": [
    "btn1=BinaryTreeNode(1)\n",
    "btn2=BinaryTreeNode(2)\n",
    "btn3=BinaryTreeNode(3)\n",
    "btn1.left=btn2\n",
    "btn1.right=btn3"
   ]
  },
  {
   "cell_type": "code",
   "execution_count": null,
   "metadata": {},
   "outputs": [],
   "source": [
    "def printTree(root):\n",
    "    if root==None:\n",
    "        return\n",
    "    print(root.data)\n",
    "    printTree(root.left)\n",
    "    printTree(root.right)\n",
    "\n",
    "printTree(btn1)\n",
    "\n",
    "    "
   ]
  },
  {
   "cell_type": "code",
   "execution_count": null,
   "metadata": {},
   "outputs": [],
   "source": [
    "def printTreeDetailed(root):\n",
    "    if root==None:\n",
    "        return\n",
    "    print(root.data,end=\":\")\n",
    "    if root.left!=None:\n",
    "        print(\"L\",root.left.data,end=\",\")\n",
    "    if root.right!=None:\n",
    "        print(\"R\",root.right.data,end=\"\") \n",
    "    print()\n",
    "    printTreeDetailed(root.left)\n",
    "    printTreeDetailed(root.right)"
   ]
  },
  {
   "cell_type": "code",
   "execution_count": null,
   "metadata": {},
   "outputs": [],
   "source": [
    "def treeinput():\n",
    "    num=int(input())\n",
    "    if num==-1:\n",
    "        return None\n",
    "    root=BinaryTreeNode(num)\n",
    "    lefttree=treeinput()\n",
    "    righttree=treeinput()\n",
    "    root.left=lefttree\n",
    "    root.right=righttree\n",
    "    return root\n"
   ]
  },
  {
   "cell_type": "code",
   "execution_count": null,
   "metadata": {},
   "outputs": [],
   "source": [
    "def numnodes(root):\n",
    "    if root==None:\n",
    "        return 0\n",
    "    left=numnodes(root.left)\n",
    "    right=numnodes(root.right)\n",
    "    return 1+left+right"
   ]
  },
  {
   "cell_type": "code",
   "execution_count": null,
   "metadata": {},
   "outputs": [],
   "source": [
    "def largestdata(root):\n",
    "    if root==None:\n",
    "        return -1\n",
    "    leftlargest=largestdata(root.left)\n",
    "    rightlargest=largestdata(root.right)\n",
    "    largest=max(leftlargest,rightlargest,root.data)\n",
    "    return largest\n",
    "    "
   ]
  },
  {
   "cell_type": "code",
   "execution_count": null,
   "metadata": {},
   "outputs": [],
   "source": [
    "def numLeafNodes(root):\n",
    "    if root==None:\n",
    "        return 0\n",
    "    if root.left==None and root.right==None:\n",
    "        return 1\n",
    "    numleft=numLeafNodes(root.left)\n",
    "    numright=numLeafNodes(root.right)\n",
    "    return numleft+numright\n"
   ]
  },
  {
   "cell_type": "code",
   "execution_count": null,
   "metadata": {},
   "outputs": [],
   "source": [
    "def printdepthk(root,k):\n",
    "    if root==None:\n",
    "        return\n",
    "    if k==0:\n",
    "        print(root.data)\n",
    "    printdepthk(root.left,k-1)\n",
    "    printdepthk(root.right,k-1)\n"
   ]
  },
  {
   "cell_type": "code",
   "execution_count": null,
   "metadata": {},
   "outputs": [],
   "source": [
    "def printdepthk1(root,k,d):\n",
    "    if root==None:\n",
    "        return\n",
    "    if k==d:\n",
    "        print(root.data)\n",
    "    printdepthk1(root.left,k,d+1)\n",
    "    printdepthk1(root.right,k,d+1)"
   ]
  },
  {
   "cell_type": "code",
   "execution_count": null,
   "metadata": {},
   "outputs": [],
   "source": [
    "def removeleafs(root):\n",
    "    if root==None:\n",
    "        return None\n",
    "    if root.left==None and root.right==None:\n",
    "        return None\n",
    "    root.left=removeleafs(root.left)\n",
    "    root.right=removeleafs(root.right)\n",
    "    return root\n",
    "\n",
    "\n",
    "    "
   ]
  },
  {
   "cell_type": "code",
   "execution_count": null,
   "metadata": {},
   "outputs": [],
   "source": [
    "def height(root):\n",
    "    if root==None:\n",
    "        return 0\n",
    "    return 1+max(height(root.left),height(root.right))\n"
   ]
  },
  {
   "cell_type": "code",
   "execution_count": null,
   "metadata": {},
   "outputs": [],
   "source": [
    "def isbalanced(root):\n",
    "    if root==None:\n",
    "        return True\n",
    "    left=height(root.left)\n",
    "    right=height(root.right)\n",
    "    if left-right>1 or right-left>1:\n",
    "        return False\n",
    "    isleftbalanced=isbalanced(root.left)\n",
    "    isrightbalanced=isbalanced(root.right)\n",
    "    if isleftbalanced and isrightbalanced:\n",
    "        return True\n",
    "    else:\n",
    "        return False"
   ]
  },
  {
   "cell_type": "code",
   "execution_count": null,
   "metadata": {},
   "outputs": [],
   "source": [
    "# improved version\n",
    "def heightandcheckbalanced(root):\n",
    "    if root==None:\n",
    "        return 0,True\n",
    "    lh,isleftbalanced=heightandcheckbalanced(root.left)\n",
    "    rh,isrightbalanced=heightandcheckbalanced(root.right)\n",
    "    h=1+max(lh,rh)\n",
    "    if rh-lh>1 or lh-rh>1:\n",
    "        return h,False\n",
    "    if isleftbalanced and isrightbalanced:\n",
    "        return h,True\n",
    "    else:\n",
    "        return h,False\n",
    "\n",
    "    \n",
    "    "
   ]
  },
  {
   "cell_type": "code",
   "execution_count": null,
   "metadata": {},
   "outputs": [],
   "source": [
    "def diameter(root):\n",
    "    if root==None:\n",
    "        return 0\n",
    "    option1=height(root.left)+height(root.right)\n",
    "    option2=diameter(root.left)\n",
    "    option3=diameter(root.right)\n",
    "    return max(option1,option2,option3)\n"
   ]
  },
  {
   "cell_type": "code",
   "execution_count": null,
   "metadata": {},
   "outputs": [],
   "source": [
    "import queue\n",
    "def takelevelwisetreeinput():\n",
    "    print(\"enter root\")\n",
    "    root=int(input())\n",
    "    if root==-1:\n",
    "        return None\n",
    "    root=BinaryTreeNode(root)\n",
    "    q=queue.Queue()\n",
    "    q.put(root)\n",
    "    while(not(q.empty())):\n",
    "        currentnode=q.get()\n",
    "        print(\"enter the left child of \",currentnode.data)\n",
    "        leftchild=int(input())\n",
    "        if leftchild!=-1:\n",
    "            leftchild=BinaryTreeNode(leftchild)\n",
    "            currentnode.left=leftchild\n",
    "            q.put(leftchild)\n",
    "        print(\"enter the right child of \",currentnode.data)\n",
    "        rightchild=int(input())\n",
    "        if rightchild!=-1:\n",
    "            rightchild=BinaryTreeNode(rightchild)\n",
    "            currentnode.right=rightchild\n",
    "            q.put(rightchild)\n",
    "    return root  "
   ]
  },
  {
   "cell_type": "code",
   "execution_count": null,
   "metadata": {},
   "outputs": [],
   "source": [
    "def printlevelwise(root):\n",
    "    if root==None:\n",
    "        return None\n",
    "    q=queue.Queue()\n",
    "    q.put(root)\n",
    "    while(not(q.empty())):\n",
    "        root=q.get()\n",
    "        print(root.data,end=\":\")\n",
    "        if root.left!=None:\n",
    "            print(\"L\",root.left.data,end=\",\")\n",
    "            q.put(root.left)\n",
    "        if root.right!=None:\n",
    "            print(\"R\",root.right.data,end=\"\")\n",
    "            q.put(root.right)\n",
    "        print()   "
   ]
  },
  {
   "cell_type": "code",
   "execution_count": null,
   "metadata": {},
   "outputs": [],
   "source": [
    "def buildtreefromprein(pre,inorder):\n",
    "    if len(pre)==0:\n",
    "        return None\n",
    "    rootdata=pre[0]\n",
    "    root=BinaryTreeNode(rootdata)\n",
    "    rootindexinorder=-1\n",
    "    for i in range(len(inorder)):\n",
    "        if inorder[i]==rootdata:\n",
    "            rootindexinorder=i\n",
    "            break\n",
    "    if rootindexinorder==-1:\n",
    "        return None\n",
    "    lefttreein=inorder[0:rootindexinorder]\n",
    "    righttreein=inorder[rootindexinorder+1:]\n",
    "    \n",
    "    l=len(lefttreein)\n",
    "    \n",
    "    lefttreepre=pre[1:l+1]\n",
    "    righttreepre=pre[l+1:]\n",
    "    \n",
    "    leftchild=buildtreefromprein(lefttreepre,lefttreein)\n",
    "    rightchild=buildtreefromprein(righttreepre,righttreein)\n",
    "    \n",
    "    root.left=leftchild\n",
    "    root.right=rightchild\n",
    "    return root\n",
    "    \n",
    "\n",
    "    \n"
   ]
  },
  {
   "cell_type": "code",
   "execution_count": null,
   "metadata": {},
   "outputs": [],
   "source": [
    "pre=[1,2,4,5,3,6,7]\n",
    "inorder=[4,2,5,1,6,3,7]\n",
    "root=buildtreefromprein(pre,inorder)\n",
    "printlevelwise(root)\n",
    "\n",
    "\n",
    "\n",
    "\n",
    "\n",
    "\n",
    "\n"
   ]
  },
  {
   "cell_type": "code",
   "execution_count": null,
   "metadata": {},
   "outputs": [],
   "source": []
  },
  {
   "cell_type": "code",
   "execution_count": null,
   "metadata": {},
   "outputs": [],
   "source": []
  },
  {
   "cell_type": "code",
   "execution_count": null,
   "metadata": {},
   "outputs": [],
   "source": []
  }
 ],
 "metadata": {
  "kernelspec": {
   "display_name": "Python 3.10.6 64-bit",
   "language": "python",
   "name": "python3"
  },
  "language_info": {
   "codemirror_mode": {
    "name": "ipython",
    "version": 3
   },
   "file_extension": ".py",
   "mimetype": "text/x-python",
   "name": "python",
   "nbconvert_exporter": "python",
   "pygments_lexer": "ipython3",
   "version": "3.10.6"
  },
  "vscode": {
   "interpreter": {
    "hash": "26de051ba29f2982a8de78e945f0abaf191376122a1563185a90213a26c5da77"
   }
  }
 },
 "nbformat": 4,
 "nbformat_minor": 4
}
