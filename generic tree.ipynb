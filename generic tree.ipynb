{
 "cells": [
  {
   "cell_type": "code",
   "execution_count": null,
   "metadata": {},
   "outputs": [],
   "source": [
    "class TreeNode:\n",
    "    def __init__(self,data):\n",
    "        self.data=data\n",
    "        self.children=list()\n"
   ]
  },
  {
   "cell_type": "code",
   "execution_count": null,
   "metadata": {},
   "outputs": [],
   "source": [
    "def printtree(root):\n",
    "    # not a base case but an edge case\n",
    "    if root==None:\n",
    "        return\n",
    "    print(root.data)\n",
    "    for child in root.children:\n",
    "        printtree(child)\n"
   ]
  },
  {
   "cell_type": "code",
   "execution_count": null,
   "metadata": {},
   "outputs": [],
   "source": [
    "def printtreedetailed(root):\n",
    "    if root==None:\n",
    "        return \n",
    "    print(root.data,\":\",end=\"\")\n",
    "    for child in root.children:\n",
    "        print(child.data,end=\",\")\n",
    "    print()\n",
    "    for child in root.children:\n",
    "        printtreedetailed(child)\n",
    "    \n",
    "        "
   ]
  },
  {
   "cell_type": "code",
   "execution_count": null,
   "metadata": {},
   "outputs": [],
   "source": [
    "def taketreeinput():\n",
    "    print(\"enter root data\")\n",
    "    rootdata=int(input())\n",
    "    # not a base case but an edge case\n",
    "    if rootdata==-1:\n",
    "        return None\n",
    "    root=TreeNode(rootdata)\n",
    "    print(\"enter the number of children\")\n",
    "    child=int(input())\n",
    "    for i in range(child):\n",
    "        child=taketreeinput()\n",
    "        root.children.append(child)\n",
    "    return root\n",
    "    \n",
    "    "
   ]
  },
  {
   "cell_type": "code",
   "execution_count": null,
   "metadata": {},
   "outputs": [],
   "source": [
    "import queue\n",
    "def taketreeinputlevelwise():\n",
    "    print(\"enter root data\")\n",
    "    rootdata=int(input())\n",
    "    if rootdata==-1:\n",
    "        return\n",
    "    root=TreeNode(rootdata)\n",
    "    q=queue.Queue()\n",
    "    q.put(root)\n",
    "    while(not(q.empty())):\n",
    "        current_node=q.get()\n",
    "        print(\"enter no of children of node\",current_node.data)\n",
    "        numnodes=int(input())\n",
    "        for i in range(numnodes):\n",
    "            print(\"enter child data\")\n",
    "            child=int(input())\n",
    "            child=TreeNode(child)\n",
    "            current_node.append(child)\n",
    "            q.put(child)\n",
    "    return root\n",
    "\n",
    "        \n",
    "          \n",
    "\n",
    "          \n",
    "          \n",
    "          \n",
    "    \n",
    "    "
   ]
  },
  {
   "cell_type": "code",
   "execution_count": null,
   "metadata": {},
   "outputs": [],
   "source": [
    "def numnodes(root):\n",
    "    if root==None:\n",
    "        return 0\n",
    "    count=1\n",
    "    for child in root.children:\n",
    "        count=count+numnodes(child)\n",
    "    return count\n",
    "    "
   ]
  },
  {
   "cell_type": "code",
   "execution_count": null,
   "metadata": {},
   "outputs": [],
   "source": [
    "root=taketreeinput()\n",
    "printtreedetailed(root)\n",
    "taketreeinputlevelwise()"
   ]
  },
  {
   "cell_type": "code",
   "execution_count": null,
   "metadata": {},
   "outputs": [],
   "source": []
  }
 ],
 "metadata": {
  "kernelspec": {
   "display_name": "Python 3.10.6 64-bit",
   "language": "python",
   "name": "python3"
  },
  "language_info": {
   "codemirror_mode": {
    "name": "ipython",
    "version": 3
   },
   "file_extension": ".py",
   "mimetype": "text/x-python",
   "name": "python",
   "nbconvert_exporter": "python",
   "pygments_lexer": "ipython3",
   "version": "3.10.6"
  },
  "vscode": {
   "interpreter": {
    "hash": "26de051ba29f2982a8de78e945f0abaf191376122a1563185a90213a26c5da77"
   }
  }
 },
 "nbformat": 4,
 "nbformat_minor": 4
}
