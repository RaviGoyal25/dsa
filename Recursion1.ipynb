{
 "cells": [
  {
   "cell_type": "code",
   "execution_count": 3,
   "metadata": {},
   "outputs": [
    {
     "name": "stdout",
     "output_type": "stream",
     "text": [
      "0\n",
      "1\n"
     ]
    }
   ],
   "source": [
    "# factorial \n",
    "\n",
    "def fact(n):\n",
    "    if n==0:\n",
    "        return 1\n",
    "    return n*fact(n-1)\n",
    "n=int(input())  \n",
    "print(fact(n))"
   ]
  },
  {
   "cell_type": "code",
   "execution_count": 6,
   "metadata": {},
   "outputs": [
    {
     "name": "stdout",
     "output_type": "stream",
     "text": [
      "0\n",
      "0\n"
     ]
    }
   ],
   "source": [
    "# sum of first natural number\n",
    "\n",
    "def sum_n(n):\n",
    "    if n==0:\n",
    "        return 0\n",
    "    return n+sum_n(n-1)\n",
    "\n",
    "n=int(input())\n",
    "print(sum_n(n))\n",
    "    \n",
    "    \n",
    "\n"
   ]
  },
  {
   "cell_type": "code",
   "execution_count": 8,
   "metadata": {},
   "outputs": [
    {
     "name": "stdout",
     "output_type": "stream",
     "text": [
      "9\n"
     ]
    }
   ],
   "source": [
    "# power of a number n**m\n",
    "\n",
    "def power(n,m):\n",
    "    if m==0:\n",
    "        return 1\n",
    "    return n*power(n,m-1)\n",
    "print(power(3,2))\n"
   ]
  },
  {
   "cell_type": "code",
   "execution_count": 9,
   "metadata": {},
   "outputs": [
    {
     "name": "stdout",
     "output_type": "stream",
     "text": [
      "1\n",
      "2\n",
      "3\n",
      "4\n",
      "5\n",
      "6\n",
      "7\n"
     ]
    }
   ],
   "source": [
    "# print numbers 1 to n\n",
    "\n",
    "def print_1_to_n(n):\n",
    "    if n==0:\n",
    "        return\n",
    "    print_1_to_n(n-1)\n",
    "    print(n)\n",
    "    return \n",
    "print_1_to_n(7)"
   ]
  },
  {
   "cell_type": "code",
   "execution_count": 11,
   "metadata": {},
   "outputs": [
    {
     "name": "stdout",
     "output_type": "stream",
     "text": [
      "7\n",
      "6\n",
      "5\n",
      "4\n",
      "3\n",
      "2\n",
      "1\n"
     ]
    }
   ],
   "source": [
    "# print numbers n to 1\n",
    "\n",
    "def print_n_to_1(n):\n",
    "    if n==0:\n",
    "        return\n",
    "    print(n)\n",
    "    print_n_to_1(n-1)\n",
    "    return \n",
    "print_n_to_1(7)"
   ]
  },
  {
   "cell_type": "code",
   "execution_count": 1,
   "metadata": {},
   "outputs": [
    {
     "name": "stdout",
     "output_type": "stream",
     "text": [
      "8\n"
     ]
    }
   ],
   "source": [
    "# fibonacci series \n",
    "def fibonacci(n):\n",
    "    if n==0 or n==1:\n",
    "        return  n\n",
    "    return fibonacci(n-1)+fibonacci(n-2)\n",
    "print(fibonacci(6))"
   ]
  },
  {
   "cell_type": "code",
   "execution_count": 19,
   "metadata": {},
   "outputs": [
    {
     "name": "stdout",
     "output_type": "stream",
     "text": [
      "True\n"
     ]
    }
   ],
   "source": [
    "# check whether the list is sorted or not\n",
    "\n",
    "def issorted(l):\n",
    "    if len(l)==1 or len(l)==0:\n",
    "        return True\n",
    "    if l[0]>l[1]:\n",
    "        return False\n",
    "    return issorted(l[1:])\n",
    "\n",
    "l=[1,2,3,4]\n",
    "print(issorted(l))\n",
    "\n",
    "        "
   ]
  },
  {
   "cell_type": "code",
   "execution_count": 25,
   "metadata": {},
   "outputs": [
    {
     "name": "stdout",
     "output_type": "stream",
     "text": [
      "False\n"
     ]
    }
   ],
   "source": [
    "# issorted better\n",
    "def issortedbetter(a,index):\n",
    "    l=len(a)\n",
    "    if index==l-1 or index==l: # index==l to handle empty list\n",
    "        return True\n",
    "    if a[index]>a[index+1]:\n",
    "        return False\n",
    "    return issortedbetter(a,index+1)\n",
    "\n",
    "l=[1,2,3,40,5,6]\n",
    "print(issortedbetter(l,0))\n",
    "\n",
    "\n",
    "    \n",
    "\n"
   ]
  },
  {
   "cell_type": "code",
   "execution_count": 23,
   "metadata": {},
   "outputs": [
    {
     "name": "stdout",
     "output_type": "stream",
     "text": [
      "21\n"
     ]
    }
   ],
   "source": [
    "# sum of array using recursion\n",
    "def sum_array(l,n):\n",
    "    if n==0:\n",
    "        return l[0]\n",
    "    return l[n]+sum_array(l,n-1)\n",
    "l=[1,2,3,4,5,6]\n",
    "print(sum_array(l,len(l)-1))\n"
   ]
  },
  {
   "cell_type": "code",
   "execution_count": 28,
   "metadata": {},
   "outputs": [
    {
     "name": "stdout",
     "output_type": "stream",
     "text": [
      "-1\n"
     ]
    }
   ],
   "source": [
    "# find the first index of a number \n",
    "\n",
    "def firstindex(a,index,num):\n",
    "    l=len(a)\n",
    "    if index==l or l==0:\n",
    "        return -1\n",
    "    if a[index]==num:\n",
    "        return index\n",
    "    return firstindex(a,index+1,num)\n",
    "\n",
    "l=[10,5,45,89,45,7,89,54,89]\n",
    "print(firstindex(l,0,99))"
   ]
  },
  {
   "cell_type": "code",
   "execution_count": 3,
   "metadata": {},
   "outputs": [
    {
     "name": "stdout",
     "output_type": "stream",
     "text": [
      "6\n"
     ]
    }
   ],
   "source": [
    "# find the last index of a number \n",
    "\n",
    "def lastindex(a,index,num):\n",
    "    if index==-1:\n",
    "        return -1\n",
    "    if a[index]==num:\n",
    "        return index\n",
    "    return lastindex(a,index-1,num)\n",
    "        \n",
    "\n",
    "l=[10,5,45,89,45,7,45,54,89]\n",
    "print(lastindex(l,len(l)-1,45))"
   ]
  },
  {
   "cell_type": "code",
   "execution_count": 1,
   "metadata": {},
   "outputs": [
    {
     "name": "stdout",
     "output_type": "stream",
     "text": [
      "6\n"
     ]
    }
   ],
   "source": [
    "def lastindex(a,index,num):\n",
    "    l=len(a)\n",
    "\n",
    "    if l==index:\n",
    "        return -1\n",
    "    \n",
    "    smallOutput=lastindex(a,index+1,num)\n",
    "    if smallOutput!=-1:\n",
    "        return smallOutput\n",
    "    else:\n",
    "        if a[index]==num:\n",
    "            return index\n",
    "        else:\n",
    "            return -1\n",
    "        \n",
    "\n",
    "l=[10,5,45,89,45,7,45,54,89]\n",
    "print(lastindex(l,0,45))"
   ]
  }
 ],
 "metadata": {
  "kernelspec": {
   "display_name": "Python 3.10.6 64-bit",
   "language": "python",
   "name": "python3"
  },
  "language_info": {
   "codemirror_mode": {
    "name": "ipython",
    "version": 3
   },
   "file_extension": ".py",
   "mimetype": "text/x-python",
   "name": "python",
   "nbconvert_exporter": "python",
   "pygments_lexer": "ipython3",
   "version": "3.10.6"
  },
  "vscode": {
   "interpreter": {
    "hash": "26de051ba29f2982a8de78e945f0abaf191376122a1563185a90213a26c5da77"
   }
  }
 },
 "nbformat": 4,
 "nbformat_minor": 4
}
