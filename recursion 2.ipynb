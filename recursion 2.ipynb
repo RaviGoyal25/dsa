{
 "cells": [
  {
   "cell_type": "code",
   "execution_count": 1,
   "metadata": {},
   "outputs": [
    {
     "name": "stdout",
     "output_type": "stream",
     "text": [
      "asha\n"
     ]
    }
   ],
   "source": [
    "# Replace a with b\n",
    "\n",
    "def replace(s,x,y):\n",
    "    l=len(s)\n",
    "    if l==0:\n",
    "        return s\n",
    "    if s[0]==x:\n",
    "        return y+replace(s[1:],x,y)\n",
    "    else:\n",
    "        return s[0]+replace(s[1:],x,y)\n",
    "    \n",
    "s=replace(\"bshb\",'b','a')\n",
    "print(s)\n"
   ]
  },
  {
   "cell_type": "code",
   "execution_count": 14,
   "metadata": {},
   "outputs": [
    {
     "name": "stdout",
     "output_type": "stream",
     "text": [
      "3.143.143.14p\n"
     ]
    }
   ],
   "source": [
    "# replace pi with 3.14\n",
    "\n",
    "def replacepi(s):\n",
    "    l=len(s)\n",
    "    if l<2:\n",
    "        return s\n",
    "    if s[0]=='p':\n",
    "        if s[1]=='i':\n",
    "            return \"3.14\"+replacepi(s[2:])\n",
    "    else:\n",
    "        return s[0]+replacepi(s[1:])\n",
    "        \n",
    "s=replacepi(\"pipipip\")\n",
    "print(s)"
   ]
  },
  {
   "cell_type": "code",
   "execution_count": 1,
   "metadata": {},
   "outputs": [
    {
     "name": "stdout",
     "output_type": "stream",
     "text": [
      "0 9\n",
      "5 9\n",
      "8 9\n",
      "9 9\n",
      "-1\n"
     ]
    }
   ],
   "source": [
    "# binary search using recursion\n",
    "\n",
    "def binarysearch(a,si,ei,item):\n",
    "    if si>ei:\n",
    "        return -1\n",
    "    mid=(si+ei)//2\n",
    "    if a[mid]==item:\n",
    "        return mid\n",
    "    elif a[mid]>item:\n",
    "        return binarysearch(a,si,mid-1,item)\n",
    "    else:\n",
    "        return binarysearch(a,mid+1,ei,item)\n",
    "\n",
    "l=[10,15,20,28,36,45,48,54,66,70]\n",
    "f=binarysearch(l,0,len(l)-1,88)\n",
    "print(f)\n",
    "\n",
    "\n",
    "\n",
    "        \n"
   ]
  },
  {
   "cell_type": "code",
   "execution_count": null,
   "metadata": {},
   "outputs": [],
   "source": []
  }
 ],
 "metadata": {
  "kernelspec": {
   "display_name": "Python 3.10.6 64-bit",
   "language": "python",
   "name": "python3"
  },
  "language_info": {
   "codemirror_mode": {
    "name": "ipython",
    "version": 3
   },
   "file_extension": ".py",
   "mimetype": "text/x-python",
   "name": "python",
   "nbconvert_exporter": "python",
   "pygments_lexer": "ipython3",
   "version": "3.10.6"
  },
  "vscode": {
   "interpreter": {
    "hash": "26de051ba29f2982a8de78e945f0abaf191376122a1563185a90213a26c5da77"
   }
  }
 },
 "nbformat": 4,
 "nbformat_minor": 4
}
