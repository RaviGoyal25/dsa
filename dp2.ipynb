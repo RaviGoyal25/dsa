{
 "cells": [
  {
   "cell_type": "code",
   "execution_count": 6,
   "metadata": {},
   "outputs": [
    {
     "name": "stdout",
     "output_type": "stream",
     "text": [
      "30\n"
     ]
    }
   ],
   "source": [
    "# min cost path\n",
    "import sys\n",
    "def minCost(cost,i,j,dp):\n",
    "    m=len(cost) #rows\n",
    "    n=len(cost[0]) #cols\n",
    "\n",
    "    if (i==m-1 and j==n-1):\n",
    "        return cost[i][j]\n",
    "\n",
    "    if (i>=m or j>=n):\n",
    "        return sys.maxsize\n",
    "\n",
    "    \n",
    "    if dp[i+1][j]==sys.maxsize:\n",
    "        ans1=minCost(cost,i+1,j,dp)\n",
    "        dp[i+1][j]=ans1\n",
    "    else:\n",
    "        ans1=dp[i+1][j]\n",
    "\n",
    "    if dp[i][j+1]==sys.maxsize:\n",
    "        ans2=minCost(cost,i,j+1,dp)\n",
    "        dp[i][j+1]=ans2\n",
    "    else:\n",
    "        ans2=dp[i][j+1]\n",
    "\n",
    "    if dp[i+1][j+1]==sys.maxsize:\n",
    "        ans3=minCost(cost,i+1,j+1,dp)\n",
    "        dp[i+1][j+1]=ans3\n",
    "    else:\n",
    "        ans3=dp[i+1][j+1]\n",
    "    \n",
    "\n",
    "    ans=cost[i][j]+min(ans1,min(ans2,ans3))\n",
    "    return ans\n",
    "\n",
    "\n",
    "\n",
    "\n",
    "cost=[[1,5,11],[8,13,12],[2,3,7],[15,16,18]]\n",
    "\n",
    "dp=[[sys.maxsize for j in range(len(cost[0])+1)] for i in range(len(cost)+1)]\n",
    "ans=minCost(cost,0,0,dp)\n",
    "print(ans)\n"
   ]
  },
  {
   "cell_type": "code",
   "execution_count": 10,
   "metadata": {},
   "outputs": [
    {
     "name": "stdout",
     "output_type": "stream",
     "text": [
      "30\n"
     ]
    }
   ],
   "source": [
    "def minCostI(cost,dp):\n",
    "    m=len(cost)\n",
    "    n=len(cost[0])\n",
    "\n",
    "    for i in range(m-1,-1,-1):\n",
    "        for j in range(n-1,-1,-1):\n",
    "            if i==m-1 and j==n-1:\n",
    "                dp[i][j]=cost[i][j]\n",
    "                continue\n",
    "            ans1=dp[i+1][j]\n",
    "            ans2=dp[i][j+1]\n",
    "            ans3=dp[i+1][j+1]\n",
    "            dp[i][j]=cost[i][j]+min(ans1,min(ans2,ans3))\n",
    "    return dp[0][0]\n",
    "\n",
    "\n",
    "\n",
    "cost=[[1,5,11],[8,13,12],[2,3,7],[15,16,18]]\n",
    "dp=[[sys.maxsize for j in range(len(cost[0])+1)] for i in range(len(cost)+1)]\n",
    "ans=minCostI(cost,dp)\n",
    "print(ans)\n",
    "\n"
   ]
  },
  {
   "cell_type": "code",
   "execution_count": 19,
   "metadata": {},
   "outputs": [
    {
     "name": "stdout",
     "output_type": "stream",
     "text": [
      "4\n"
     ]
    }
   ],
   "source": [
    "# longest common subsesequence\n",
    "\n",
    "def lcs(str1,str2,i,j,dp):\n",
    "    if i==len(str1) or j==len(str2):\n",
    "        return 0\n",
    "    if str1[i]==str2[j]:\n",
    "        if dp[i+1][j+1]==-1:\n",
    "            ans=lcs(str1,str2,i+1,j+1,dp)\n",
    "            dp[i+1][j+1]=ans\n",
    "            return 1+ans\n",
    "        else:\n",
    "            return 1+dp[i+1][j+1]\n",
    "    else:\n",
    "        if dp[i+1][j]==-1:\n",
    "            ans1=lcs(str1,str2,i+1,j,dp)\n",
    "            dp[i+1][j]=ans1\n",
    "        else:\n",
    "            ans1=dp[i+1][j]\n",
    "\n",
    "        if dp[i][j+1]==-1:\n",
    "            ans2=lcs(str1,str2,i,j+1,dp)\n",
    "            dp[i][j+1]=ans2\n",
    "        else:\n",
    "            ans2=dp[i][j+1]\n",
    "\n",
    "        return max(ans1,ans2)\n",
    "\n",
    "\n",
    "str1=\"bedgmc\"\n",
    "str2=\"abdfglc\"\n",
    "dp=[[-1 for j in range(len(str2)+1)] for i in range(len(str1)+1)]\n",
    "ans=lcs(str1,str2,0,0,dp)\n",
    "print(ans)"
   ]
  },
  {
   "cell_type": "code",
   "execution_count": 21,
   "metadata": {},
   "outputs": [
    {
     "name": "stdout",
     "output_type": "stream",
     "text": [
      "4\n"
     ]
    }
   ],
   "source": [
    "def lcsI(str1,str2):\n",
    "    dp=dp=[[0 for j in range(len(str2)+1)] for i in range(len(str1)+1)]\n",
    "\n",
    "    for i in range(len(str1)-1,-1,-1):\n",
    "        for j in range(len(str2)-1,-1,-1):\n",
    "            if str1[i]==str2[j]:\n",
    "                dp[i][j]=1+dp[i+1][j+1]\n",
    "            else:\n",
    "                dp[i][j]=max(dp[i+1][j],dp[i][j+1])\n",
    "    return dp[0][0]\n",
    "\n",
    "str1=\"bedgmc\"\n",
    "str2=\"abdfglc\"\n",
    "ans=lcsI(str1,str2)\n",
    "print(ans)\n",
    "\n",
    "\n"
   ]
  },
  {
   "cell_type": "code",
   "execution_count": 23,
   "metadata": {},
   "outputs": [
    {
     "name": "stdout",
     "output_type": "stream",
     "text": [
      "500\n"
     ]
    }
   ],
   "source": [
    "def knapsack(w,wt,val,i):\n",
    "    if i==len(val):\n",
    "        return 0\n",
    "\n",
    "    if wt[i]<=w:\n",
    "        ans1=val[i]+knapsack(w-wt[i],wt,val,i+1)\n",
    "        ans2=knapsack(w,wt,val,i+1)\n",
    "        return max(ans1,ans2)\n",
    "    else:\n",
    "        return knapsack(w,wt,val,i+1)\n",
    "\n",
    "\n",
    "\n",
    "\n",
    "\n",
    "val=[200,300,100]\n",
    "\n",
    "wt=[20,25,30]\n",
    "\n",
    "w=50\n",
    "\n",
    "ans=knapsack(w,wt,val,0)\n",
    "print(ans)\n",
    "\n"
   ]
  },
  {
   "cell_type": "code",
   "execution_count": 27,
   "metadata": {},
   "outputs": [
    {
     "name": "stdout",
     "output_type": "stream",
     "text": [
      "500\n"
     ]
    }
   ],
   "source": [
    "def knapsackI(w,wt,val):\n",
    "    n=len(val)\n",
    "    dp=[[0 for j in range(w+1)] for i in range(n+1)]\n",
    "\n",
    "    for i in range (n-1,-1,-1):\n",
    "        for w in range(0,w+1):\n",
    "            if wt[i]<=w:\n",
    "                ans1=val[i]+dp[i+1][w-wt[i]]\n",
    "                ans2=dp[i+1][w]\n",
    "                ans=max(ans1,ans2)\n",
    "                dp[i][w]=ans\n",
    "            else:\n",
    "                dp[i][w]=dp[i+1][w]\n",
    "    return dp[0][w]\n",
    "\n",
    "\n",
    "val=[200,300,100]\n",
    "\n",
    "wt=[20,25,30]\n",
    "\n",
    "w=50\n",
    "\n",
    "ans=knapsackI(w,wt,val)\n",
    "print(ans)"
   ]
  },
  {
   "cell_type": "code",
   "execution_count": 29,
   "metadata": {},
   "outputs": [
    {
     "name": "stdout",
     "output_type": "stream",
     "text": [
      "124\n"
     ]
    }
   ],
   "source": [
    "import sys\n",
    "\n",
    "def mcm(p,i,j,dp):\n",
    "\n",
    "    if i==j:\n",
    "        return 0\n",
    "    minValue=sys.maxsize\n",
    "\n",
    "    for k in range(i,j):\n",
    "        if dp[i][k]==-1:\n",
    "            ans1=mcm(p,i,k,dp)\n",
    "            dp[i][k]=ans1\n",
    "        else:\n",
    "            ans1=dp[i][k]\n",
    "        \n",
    "        if dp[k+1][j]==-1:\n",
    "            ans2=mcm(p,k+1,j,dp)\n",
    "            dp[k+1][j]=ans2\n",
    "        else:\n",
    "            ans2=dp[k+1][j]\n",
    "        mcost=p[i-1]*p[k]*p[j]+ans1+ans2\n",
    "\n",
    "        minValue=min(minValue,mcost)\n",
    "\n",
    "    return minValue\n",
    "\n",
    "\n",
    "\n",
    "\n",
    "\n",
    "\n",
    "p=[2,3,4,5,6]\n",
    "n=len(p)-1\n",
    "\n",
    "dp=[[-1 for i in range(n+1)] for j in range(n+1)]\n",
    "\n",
    "ans=mcm(p,1,n,dp)\n",
    "print(ans)\n",
    "\n"
   ]
  }
 ],
 "metadata": {
  "kernelspec": {
   "display_name": "Python 3.10.6 64-bit",
   "language": "python",
   "name": "python3"
  },
  "language_info": {
   "codemirror_mode": {
    "name": "ipython",
    "version": 3
   },
   "file_extension": ".py",
   "mimetype": "text/x-python",
   "name": "python",
   "nbconvert_exporter": "python",
   "pygments_lexer": "ipython3",
   "version": "3.10.6"
  },
  "orig_nbformat": 4,
  "vscode": {
   "interpreter": {
    "hash": "26de051ba29f2982a8de78e945f0abaf191376122a1563185a90213a26c5da77"
   }
  }
 },
 "nbformat": 4,
 "nbformat_minor": 2
}
